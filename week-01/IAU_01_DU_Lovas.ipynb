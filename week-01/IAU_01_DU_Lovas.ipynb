{
 "cells": [
  {
   "cell_type": "markdown",
   "metadata": {
    "colab_type": "text",
    "id": "PE4ExuwJjYZl"
   },
   "source": [
    "# Introduction to Python: DÚ"
   ]
  },
  {
   "cell_type": "code",
   "execution_count": 1,
   "metadata": {
    "colab": {},
    "colab_type": "code",
    "id": "m7dnZNjx26I_"
   },
   "outputs": [],
   "source": [
    "# -*- coding: utf-8 -*-\n",
    "#\n",
    "# Licensed under the Apache License, Version 2.0 (the \"License\");\n",
    "# you may not use this file except in compliance with the License.\n",
    "# You may obtain a copy of the License at\n",
    "#\n",
    "#    http://www.apache.org/licenses/LICENSE-2.0\n",
    "#\n",
    "# Unless required by applicable law or agreed to in writing, software\n",
    "# distributed under the License is distributed on an \"AS IS\" BASIS,\n",
    "# WITHOUT WARRANTIES OR CONDITIONS OF ANY KIND, either express or\n",
    "# implied.\n",
    "# See the License for the specific language governing permissions and\n",
    "# limitations under the License.\n",
    "#"
   ]
  },
  {
   "cell_type": "markdown",
   "metadata": {
    "colab_type": "text",
    "id": "wtQeTdrV4kO_"
   },
   "source": [
    "Oficiálny python tutoriál: [https://docs.python.org/3.8/tutorial/index.html](https://docs.python.org/3.8/tutorial/index.html) \n",
    "\n",
    "URL [https://github.com/jerry-git/learn-python3](https://github.com/jerry-git/learn-python3)"
   ]
  },
  {
   "cell_type": "markdown",
   "metadata": {
    "colab_type": "text",
    "id": "NNi-uBwHfdk0"
   },
   "source": [
    "## Úloha 1"
   ]
  },
  {
   "cell_type": "markdown",
   "metadata": {
    "colab_type": "text",
    "id": "X3eHvejdfgWj"
   },
   "source": [
    "Máte zadané pole stringov."
   ]
  },
  {
   "cell_type": "code",
   "execution_count": 2,
   "metadata": {
    "colab": {},
    "colab_type": "code",
    "id": "1qj5175CfnTd"
   },
   "outputs": [],
   "source": [
    "pole_na_rozdelenie = [\"Fiit\", \"fiit\", \"megadlhystring!!!\", \"autobiografia\", \"Alica\", \"python\", \"pip\", \"env\", \"jupyter\", \"IAU\"]"
   ]
  },
  {
   "cell_type": "markdown",
   "metadata": {
    "colab_type": "text",
    "id": "RaGmXpqghnQW"
   },
   "source": [
    "Napíšte funkciu, ktorá pre zadané pole stringov vráti nové pole obsahujúce len stringy na prvočíselných indexoch. Potom túto funkciu zavolajte s vyššie deklarovaným polom ako parameter."
   ]
  },
  {
   "cell_type": "code",
   "execution_count": 3,
   "metadata": {
    "colab": {},
    "colab_type": "code",
    "id": "W8ed3W40h529"
   },
   "outputs": [
    {
     "name": "stdout",
     "output_type": "stream",
     "text": [
      "['megadlhystring!!!', 'autobiografia', 'python', 'env', 'IAU']\n"
     ]
    }
   ],
   "source": [
    "pole_na_rozdelenie = [\"Fiit\", \"fiit\", \"megadlhystring!!!\", \"autobiografia\", \"Alica\", \"python\", \"pip\", \"env\", \"jupyter\",\n",
    "                      \"IAU\"]\n",
    "\n",
    "\n",
    "def sort_by_prime_number(array):\n",
    "    final_array = []\n",
    "    for string in array:\n",
    "        index = array.index(string)\n",
    "        if index > 1:\n",
    "            if checkPrime(index):\n",
    "                final_array.append(string)\n",
    "\n",
    "    return final_array\n",
    "\n",
    "\n",
    "def checkPrime(index):\n",
    "    for i in range(2, index):\n",
    "        if index % 2 == 0:\n",
    "            return False\n",
    "    return True\n",
    "\n",
    "\n",
    "print(sort_by_prime_number(pole_na_rozdelenie))\n"
   ]
  },
  {
   "cell_type": "markdown",
   "metadata": {
    "colab_type": "text",
    "id": "OsdZWqFsfvgk"
   },
   "source": [
    "Napíšte program, ktorý vyššie deklarované pole rozdelí do 3 nových polí, pričom v jednom poli budú stringy dĺžky menej ako 5. V druhom poli stringy dĺžky medzi 5 a 10 (vrátane) a stringy začínajúce na písmeno \"a\" alebo ľubovoľné veľké písmeno pričom je string **ľubovoľnej** dĺžky. V treťom poli všetky ostatné stringy."
   ]
  },
  {
   "cell_type": "code",
   "execution_count": 4,
   "metadata": {
    "colab": {},
    "colab_type": "code",
    "id": "19OHF7shiDI9"
   },
   "outputs": [
    {
     "name": "stdout",
     "output_type": "stream",
     "text": [
      "[['Fiit', 'fiit', 'pip', 'env', 'IAU'], ['autobiografia', 'Alica', 'python', 'jupyter'], ['megadlhystring!!!']]\n"
     ]
    }
   ],
   "source": [
    "pole_na_rozdelenie = [\"Fiit\", \"fiit\", \"megadlhystring!!!\", \"autobiografia\", \"Alica\", \"python\", \"pip\", \"env\", \"jupyter\",\n",
    "                      \"IAU\"]\n",
    "\n",
    "\n",
    "def sort_into_arrays(array):\n",
    "    small = []\n",
    "    mid = []\n",
    "    large = []\n",
    "    for string in array:\n",
    "        if checkSmall(string):\n",
    "            small.append(string)\n",
    "        elif checkMid(string):\n",
    "            mid.append(string)\n",
    "        else:\n",
    "            large.append(string)\n",
    "    return group(small, mid, large)\n",
    "\n",
    "\n",
    "\n",
    "def checkSmall(string):\n",
    "    if len(string) < 5:\n",
    "        return True\n",
    "    else:\n",
    "        return False\n",
    "\n",
    "\n",
    "def checkMid(string):\n",
    "    if 5 < len(string) <= 10 or string[0] == 'a' or string[0].isupper():\n",
    "        return True\n",
    "    else:\n",
    "        return False\n",
    "\n",
    "\n",
    "def group(array1, array2, array3):\n",
    "    print_array = [array1, array2, array3]\n",
    "    return print_array\n",
    "\n",
    "\n",
    "print(sort_into_arrays(pole_na_rozdelenie))\n"
   ]
  },
  {
   "cell_type": "markdown",
   "metadata": {
    "colab_type": "text",
    "id": "-sZ6ISJMp1bR"
   },
   "source": [
    "## Úloha 2"
   ]
  },
  {
   "cell_type": "markdown",
   "metadata": {
    "colab_type": "text",
    "id": "MzlqAVbwp4qL"
   },
   "source": [
    "Máme zadané pole čisiel typu Interger (int)."
   ]
  },
  {
   "cell_type": "code",
   "execution_count": 5,
   "metadata": {
    "colab": {},
    "colab_type": "code",
    "id": "9dEavPgJp7b1"
   },
   "outputs": [],
   "source": [
    "pole = [1, 4, 5, 1, 7, 5, 1, 5, 4, 2, 3, 4]\n",
    "#pole = [1,2,3,4,5,5,6,6,4,4,5,5,12,12,1,1,1,1,1,2,1]\n",
    "#pole = [1,1,2,20]"
   ]
  },
  {
   "cell_type": "markdown",
   "metadata": {
    "colab_type": "text",
    "id": "Ie99LXSfqacF"
   },
   "source": [
    "Napíšte funkciu, ktorá nám povie pre pole intov, či sa dá toto pole rozdeliť do dvoch polí s rovnakým súčtom. Potom túto funckiu zavolajte na vyššie deklarované pole. Vypíšte takéto dve polia (ľubovoľné, ktoré sĺňajú podmienku rovnakého súčtu)."
   ]
  },
  {
   "cell_type": "code",
   "execution_count": 6,
   "metadata": {},
   "outputs": [
    {
     "name": "stdout",
     "output_type": "stream",
     "text": [
      "1 4 5 1 7 5 1 \n",
      "5 4 2 3 4 6 \n",
      "21\n",
      "\n",
      "57\n"
     ]
    }
   ],
   "source": [
    "pole = [1, 4, 5, 1, 7, 5, 1, 5, 4, 2, 3, 4, 6]\n",
    "\n",
    "\n",
    "def find_split(array, n):\n",
    "    left_sum = 0\n",
    "\n",
    "    for i in range(0, n):\n",
    "\n",
    "        left_sum += array[i]\n",
    "\n",
    "        right_sum = 0\n",
    "        for j in range(i + 1, n):\n",
    "            right_sum += array[j]\n",
    "\n",
    "        if left_sum == right_sum:\n",
    "            return i + 1\n",
    "\n",
    "    return -1\n",
    "\n",
    "\n",
    "def split(array, n):\n",
    "    first_sum = 0\n",
    "    second_sum = 0\n",
    "    split_possible = find_split(array, n)\n",
    "\n",
    "    if split_possible == -1 or split_possible == n:\n",
    "        print(\"Not Possible\")\n",
    "        return\n",
    "\n",
    "    for i in range(0, n):\n",
    "        if split_possible == i:\n",
    "            print(\"\")\n",
    "        if i < split_possible:\n",
    "            first_sum += i\n",
    "        else:\n",
    "            second_sum += i\n",
    "        print(str(array[i]) + ' ', end='')\n",
    "    print()\n",
    "    print(first_sum)\n",
    "    print()\n",
    "    print(second_sum)\n",
    "\n",
    "\n",
    "n = len(pole)\n",
    "split(pole, n)\n"
   ]
  }
 ],
 "metadata": {
  "colab": {
   "collapsed_sections": [],
   "name": "IAU_uvod_do_pythonu.ipynb",
   "provenance": []
  },
  "kernelspec": {
   "display_name": "Python 3 (ipykernel)",
   "language": "python",
   "name": "python3"
  },
  "language_info": {
   "codemirror_mode": {
    "name": "ipython",
    "version": 3
   },
   "file_extension": ".py",
   "mimetype": "text/x-python",
   "name": "python",
   "nbconvert_exporter": "python",
   "pygments_lexer": "ipython3",
   "version": "3.9.13"
  }
 },
 "nbformat": 4,
 "nbformat_minor": 4
}
